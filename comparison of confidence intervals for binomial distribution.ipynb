{
 "cells": [
  {
   "cell_type": "code",
   "execution_count": 1,
   "metadata": {},
   "outputs": [],
   "source": [
    "import numpy as np\n",
    "import pandas as pd\n",
    "% matplotlib inline"
   ]
  },
  {
   "cell_type": "code",
   "execution_count": 2,
   "metadata": {},
   "outputs": [],
   "source": [
    "N = 1000\n",
    "p = 0.02"
   ]
  },
  {
   "cell_type": "code",
   "execution_count": 3,
   "metadata": {},
   "outputs": [
    {
     "name": "stdout",
     "output_type": "stream",
     "text": [
      "0.023\n"
     ]
    }
   ],
   "source": [
    "num_observed = np.random.binomial(N, p)\n",
    "p_hat = num_observed * 1.0 / N\n",
    "print(p_hat)"
   ]
  },
  {
   "cell_type": "markdown",
   "metadata": {},
   "source": [
    "### bootstrap confidence interval\n",
    "\n",
    "Here's a 95% bootstrap confidence interval obtained by resampling 10,000 points 100,000 times from the sample distribution."
   ]
  },
  {
   "cell_type": "code",
   "execution_count": 4,
   "metadata": {},
   "outputs": [],
   "source": [
    "def bootstrap_confidence_interval(p_hat, N):\n",
    "    samples = pd.Series(np.random.binomial(10000, p_hat, 100000) / 10000)\n",
    "    return np.percentile(samples, 5), np.percentile(samples, 95)"
   ]
  },
  {
   "cell_type": "code",
   "execution_count": 5,
   "metadata": {},
   "outputs": [
    {
     "data": {
      "text/plain": [
       "<matplotlib.axes._subplots.AxesSubplot at 0x7f4f96e573c8>"
      ]
     },
     "execution_count": 5,
     "metadata": {},
     "output_type": "execute_result"
    },
    {
     "data": {
      "image/png": "[encoded data removed]",
      "text/plain": [
       "<matplotlib.figure.Figure at 0x7f4f96ecbda0>"
      ]
     },
     "metadata": {},
     "output_type": "display_data"
    }
   ],
   "source": [
    "# we can draw a histogram!\n",
    "pd.Series(np.random.binomial(10000, p_hat, 100000) / 10000).hist(bins=101)"
   ]
  },
  {
   "cell_type": "code",
   "execution_count": 6,
   "metadata": {},
   "outputs": [
    {
     "data": {
      "text/plain": [
       "(0.0206, 0.025499999999999998)"
      ]
     },
     "execution_count": 6,
     "metadata": {},
     "output_type": "execute_result"
    }
   ],
   "source": [
    "bootstrap_confidence_interval(p_hat, N)"
   ]
  },
  {
   "cell_type": "markdown",
   "metadata": {},
   "source": [
    "### normal confidence interval\n",
    "\n",
    "Here's a 95% confidence interval based on the central limit theorem (from [Wikipedia](https://en.wikipedia.org/wiki/Binomial_proportion_confidence_interval#Normal_approximation_interval)):\n",
    "\n",
    "$$\\hat{p} \\pm z \\sqrt{\\frac{\\hat{p}(1-\\hat{p}}{n}}$$\n",
    "\n",
    "This seems to be wider and much more likely to contain the correct probability"
   ]
  },
  {
   "cell_type": "code",
   "execution_count": 7,
   "metadata": {},
   "outputs": [],
   "source": [
    "def normal_confidence_interval(p_hat, n):\n",
    "    z = 1.96 # constant for the 95th percentile confidence interval\n",
    "    delta = z * np.sqrt(p_hat * (1-p_hat) / n)\n",
    "    return (p_hat - delta, p_hat + delta)"
   ]
  },
  {
   "cell_type": "code",
   "execution_count": 8,
   "metadata": {},
   "outputs": [
    {
     "data": {
      "text/plain": [
       "(0.013708897073005811, 0.032291102926994192)"
      ]
     },
     "execution_count": 8,
     "metadata": {},
     "output_type": "execute_result"
    }
   ],
   "source": [
    "normal_confidence_interval(p_hat, N)"
   ]
  },
  {
   "cell_type": "markdown",
   "metadata": {},
   "source": [
    "### wilson score interval\n",
    "\n",
    "Here's another one from the same [wikipedia page](https://en.wikipedia.org/wiki/Binomial_proportion_confidence_interval#Wilson_score_interval)\n",
    "\n",
    "$$  \\frac{\\hat p+\\frac{z^2}{2n}}{1+\\frac{z^2}{n}}\n",
    "\\pm\n",
    "\\frac{z}{1+\\frac{z^2}{n}}\\sqrt{\\frac{\\hat p(1-\\hat p)}{n}+\\frac{z^2}{4n^2}}\n",
    "$$"
   ]
  },
  {
   "cell_type": "code",
   "execution_count": 9,
   "metadata": {},
   "outputs": [],
   "source": [
    "def wilson_score_interval(p_hat, n):\n",
    "    z = 1.96\n",
    "    center = (p_hat + z**2 / (2*n)) / (1 + z**2 / n)\n",
    "    delta = (z / (1 + z**2 / n)) * np.sqrt(p_hat * (1-p_hat)/n + z**2 / (4*n**2))\n",
    "    return (center - delta, center + delta)"
   ]
  },
  {
   "cell_type": "code",
   "execution_count": 10,
   "metadata": {},
   "outputs": [
    {
     "data": {
      "text/plain": [
       "(0.015374164302931469, 0.034276696948485098)"
      ]
     },
     "execution_count": 10,
     "metadata": {},
     "output_type": "execute_result"
    }
   ],
   "source": [
    "wilson_score_interval(p_hat, N)"
   ]
  },
  {
   "cell_type": "markdown",
   "metadata": {},
   "source": [
    "# how likely is each confidence interval to contain the real p?\n",
    "\n",
    "we'd expect the answer to be about 95%. Is it? Let's see!"
   ]
  },
  {
   "cell_type": "code",
   "execution_count": 11,
   "metadata": {},
   "outputs": [],
   "source": [
    "def contains_p(interval, p):\n",
    "    return interval[0] <= p and interval[1] >= p"
   ]
  },
  {
   "cell_type": "code",
   "execution_count": 12,
   "metadata": {},
   "outputs": [],
   "source": [
    "bootstrap_successes = 0\n",
    "wilson_successes = 0\n",
    "normal_successes = 0\n",
    "\n",
    "repeats = 1000\n",
    "\n",
    "for i in range(1, repeats):\n",
    "    p_hat = np.random.binomial(N, p) * 1.0 / N\n",
    "    if contains_p(bootstrap_confidence_interval(p_hat, N), p):\n",
    "        bootstrap_successes += 1\n",
    "    if contains_p(wilson_score_interval(p_hat, N), p):\n",
    "        wilson_successes += 1\n",
    "    if contains_p(normal_confidence_interval(p_hat, N), p):\n",
    "        normal_successes += 1\n"
   ]
  },
  {
   "cell_type": "code",
   "execution_count": 13,
   "metadata": {},
   "outputs": [
    {
     "name": "stdout",
     "output_type": "stream",
     "text": [
      "Bootstrap success ratio: 0.403\n",
      "Wilson success ratio: 0.947\n",
      "Normal success ratio: 0.947\n"
     ]
    }
   ],
   "source": [
    "print(\"Bootstrap success ratio:\", bootstrap_successes / repeats)\n",
    "print(\"Wilson success ratio:\", wilson_successes / repeats)\n",
    "print(\"Normal success ratio:\", normal_successes / repeats)"
   ]
  },
  {
   "cell_type": "markdown",
   "metadata": {},
   "source": [
    "So it seems like what we've learned is that the wilson and normal confidence intervals are both pretty good and the bootstrap confidence interval is SUPER BAD. It only contains the actual probability about 40% of the time! that's really upsetting!"
   ]
  },
  {
   "cell_type": "code",
   "execution_count": null,
   "metadata": {},
   "outputs": [],
   "source": []
  }
 ],
 "metadata": {
  "kernelspec": {
   "display_name": "Python 3",
   "language": "python",
   "name": "python3"
  },
  "language_info": {
   "codemirror_mode": {
    "name": "ipython",
    "version": 3
   },
   "file_extension": ".py",
   "mimetype": "text/x-python",
   "name": "python",
   "nbconvert_exporter": "python",
   "pygments_lexer": "ipython3",
   "version": "3.6.7"
  }
 },
 "nbformat": 4,
 "nbformat_minor": 2
}
